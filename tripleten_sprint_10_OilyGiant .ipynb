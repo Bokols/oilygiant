{
 "cells": [
  {
   "cell_type": "markdown",
   "metadata": {},
   "source": [
    "# Proyecto Sprint 10 - Aprendizaje automático en negocios\n",
    "***\n",
    "En este proyecto, tengo la tarea de identificar la ubicación del pozo petrolero más rentable para la empresa minera OilyGiant mediante el análisis de datos geológicos de tres regiones diferentes. El proyecto implica construir un modelo de regresión lineal para predecir el volumen de reservas de cada pozo de petróleo en función de sus parámetros, como la calidad del petróleo y el volumen de reservas. Utilizando estas predicciones, seleccionaré los pozos más prometedores y determinaré la región que ofrece el mayor potencial de ganancias totales. El análisis incorporará la técnica Bootstrapping para evaluar las ganancias potenciales y los riesgos asociados, asegurando que la decisión final cumpla con el requisito de la empresa de mantener un riesgo de pérdida por debajo del 2,5%. El objetivo es maximizar el retorno de la inversión eligiendo la región óptima para el desarrollo de nuevos pozos petroleros y al mismo tiempo satisfacer restricciones comerciales específicas.\n",
    "\n",
    "Para cada región considerada, se evaluará un grupo inicial de 500 sitios potenciales para seleccionar los 200 principales con las reservas de petróleo más prometedoras para el cálculo de ganancias. El presupuesto asignado para el desarrollo de estos 200 pozos se fija en 100 millones. Económicamente, se espera que cada barril de petróleo genere 4,5 dólares de ingresos, en el entendido de que los volúmenes de reservas de petróleo se miden en miles de barriles, lo que hace que los ingresos por una unidad de producto sean 4.500. Después de la evaluación de riesgos, solo se considerarán para el desarrollo aquellas regiones con un riesgo de pérdida inferior al 2,5%. Entre ellas, se elegirá la región con mayor beneficio medio como lugar para el desarrollo de nuevos pozos petroleros."
   ]
  },
  {
   "cell_type": "markdown",
   "metadata": {},
   "source": [
    "<div class=\"alert alert-block alert-success\">\n",
    "<b>Review General. (Iteración 1) </b> <a class=\"tocSkip\"></a>\n",
    "\n",
    "\n",
    "Hola, siempre me tomo este tiempo al inicio de tu proyecto para comentar mis apreciaciones generales de esta iteración de tu entrega. \n",
    "    \n",
    "\n",
    "Me gusta comenzar dando la bienvenida al mundo de los datos a los estudiantes, te deseo lo mejor y espero que consigas lograr tus objetivos. Personalmente me gusta brindar el siguiente consejo, \"Está bien equivocarse, es normal y es lo mejor que te puede pasar. Aprendemos de los errores y eso te hará mejor programador ya que podrás descubrir cosas a medida que avances y son estas cosas las que te darán esa experiencia para ser un gran Data Scientist\"\n",
    "    \n",
    "Ahora si yendo a esta notebook. Quiero felicitarte porque has hecho un gran trabajo a lo largo de toda la notebook, desde las interpretaciones hasta las implementaciones, se ha notado un gran manejo de las herramientas y una gran comprensión de los resultados obtenidos. Felicitaciones, tu trabajo esta en las mejores condiciones para ser aprobado.\n",
    "\n",
    "Éxitos dentro de tu camino en el mundo de los datos, saludos!"
   ]
  },
  {
   "cell_type": "code",
   "execution_count": 1,
   "metadata": {},
   "outputs": [],
   "source": [
    "# Importar bibliotecas\n",
    "import numpy as np\n",
    "import pandas as pd\n",
    "from scipy import stats as st\n",
    "import seaborn as sns\n",
    "import matplotlib.pyplot as plt\n",
    "from sklearn.model_selection import train_test_split\n",
    "from sklearn.preprocessing import StandardScaler\n",
    "from sklearn.linear_model import LinearRegression\n",
    "from sklearn.metrics import explained_variance_score \n",
    "from sklearn.metrics import mean_squared_error\n",
    "from sklearn.metrics import mean_absolute_error\n",
    "from sklearn.metrics import r2_score"
   ]
  },
  {
   "cell_type": "markdown",
   "metadata": {},
   "source": [
    "## Descarga y prepara los datos."
   ]
  },
  {
   "cell_type": "markdown",
   "metadata": {},
   "source": [
    "### subir archivos"
   ]
  },
  {
   "cell_type": "code",
   "execution_count": 2,
   "metadata": {},
   "outputs": [],
   "source": [
    "# Cargar archivos\n",
    "geo_0 = pd.read_csv('/datasets/geo_data_0.csv')\n",
    "geo_1 = pd.read_csv('/datasets/geo_data_1.csv')\n",
    "geo_2 = pd.read_csv('/datasets/geo_data_2.csv')\n",
    "data_sets = [geo_0, geo_1, geo_2]"
   ]
  },
  {
   "cell_type": "markdown",
   "metadata": {},
   "source": [
    "### Examinar DataFrame"
   ]
  },
  {
   "cell_type": "code",
   "execution_count": 3,
   "metadata": {},
   "outputs": [
    {
     "name": "stdout",
     "output_type": "stream",
     "text": [
      "geo_0:\n",
      "      id        f0        f1        f2     product\n",
      "0  txEyH  0.705745 -0.497823  1.221170  105.280062\n",
      "1  2acmU  1.334711 -0.340164  4.365080   73.037750\n",
      "2  409Wp  1.022732  0.151990  1.419926   85.265647\n",
      "3  iJLyR -0.032172  0.139033  2.978566  168.620776\n",
      "4  Xdl7t  1.988431  0.155413  4.751769  154.036647\n",
      " \n",
      "geo_1:\n",
      "      id        f0        f1        f2     product\n",
      "0  txEyH  0.705745 -0.497823  1.221170  105.280062\n",
      "1  2acmU  1.334711 -0.340164  4.365080   73.037750\n",
      "2  409Wp  1.022732  0.151990  1.419926   85.265647\n",
      "3  iJLyR -0.032172  0.139033  2.978566  168.620776\n",
      "4  Xdl7t  1.988431  0.155413  4.751769  154.036647\n",
      " \n",
      "geo_2:\n",
      "      id        f0        f1        f2     product\n",
      "0  txEyH  0.705745 -0.497823  1.221170  105.280062\n",
      "1  2acmU  1.334711 -0.340164  4.365080   73.037750\n",
      "2  409Wp  1.022732  0.151990  1.419926   85.265647\n",
      "3  iJLyR -0.032172  0.139033  2.978566  168.620776\n",
      "4  Xdl7t  1.988431  0.155413  4.751769  154.036647\n",
      " \n"
     ]
    }
   ],
   "source": [
    "# Mostrando las primeras cinco filas en los tres conjuntos de datos\n",
    "n =0\n",
    "for i in data_sets:\n",
    "    print(f'geo_{n}:')\n",
    "    print(geo_0.head())\n",
    "    print(' ')\n",
    "    n = n+1"
   ]
  },
  {
   "cell_type": "code",
   "execution_count": 4,
   "metadata": {},
   "outputs": [
    {
     "name": "stdout",
     "output_type": "stream",
     "text": [
      "geo_0:\n",
      "(100000, 5)\n",
      " \n",
      "geo_1:\n",
      "(100000, 5)\n",
      " \n",
      "geo_2:\n",
      "(100000, 5)\n",
      " \n"
     ]
    }
   ],
   "source": [
    "# Mostrar el tamaño de los tres conjuntos de datos\n",
    "n =0\n",
    "for i in data_sets:\n",
    "    print(f'geo_{n}:')\n",
    "    print(geo_0.shape)\n",
    "    print(' ')\n",
    "    n = n+1"
   ]
  },
  {
   "cell_type": "code",
   "execution_count": 5,
   "metadata": {},
   "outputs": [
    {
     "name": "stdout",
     "output_type": "stream",
     "text": [
      "geo_0:\n",
      "id          object\n",
      "f0         float64\n",
      "f1         float64\n",
      "f2         float64\n",
      "product    float64\n",
      "dtype: object\n",
      " \n",
      "geo_1:\n",
      "id          object\n",
      "f0         float64\n",
      "f1         float64\n",
      "f2         float64\n",
      "product    float64\n",
      "dtype: object\n",
      " \n",
      "geo_2:\n",
      "id          object\n",
      "f0         float64\n",
      "f1         float64\n",
      "f2         float64\n",
      "product    float64\n",
      "dtype: object\n",
      " \n"
     ]
    }
   ],
   "source": [
    "# Mostrar Dtypes de los tres conjuntos de datos\n",
    "n =0\n",
    "for i in data_sets:\n",
    "    print(f'geo_{n}:')\n",
    "    print(geo_0.dtypes)\n",
    "    print(' ')\n",
    "    n = n+1"
   ]
  },
  {
   "cell_type": "code",
   "execution_count": 6,
   "metadata": {},
   "outputs": [
    {
     "name": "stdout",
     "output_type": "stream",
     "text": [
      "geo_0:\n",
      "                  f0             f1             f2        product\n",
      "count  100000.000000  100000.000000  100000.000000  100000.000000\n",
      "mean        0.500419       0.250143       2.502647      92.500000\n",
      "std         0.871832       0.504433       3.248248      44.288691\n",
      "min        -1.408605      -0.848218     -12.088328       0.000000\n",
      "25%        -0.072580      -0.200881       0.287748      56.497507\n",
      "50%         0.502360       0.250252       2.515969      91.849972\n",
      "75%         1.073581       0.700646       4.715088     128.564089\n",
      "max         2.362331       1.343769      16.003790     185.364347\n",
      " \n",
      "geo_1:\n",
      "                  f0             f1             f2        product\n",
      "count  100000.000000  100000.000000  100000.000000  100000.000000\n",
      "mean        0.500419       0.250143       2.502647      92.500000\n",
      "std         0.871832       0.504433       3.248248      44.288691\n",
      "min        -1.408605      -0.848218     -12.088328       0.000000\n",
      "25%        -0.072580      -0.200881       0.287748      56.497507\n",
      "50%         0.502360       0.250252       2.515969      91.849972\n",
      "75%         1.073581       0.700646       4.715088     128.564089\n",
      "max         2.362331       1.343769      16.003790     185.364347\n",
      " \n",
      "geo_2:\n",
      "                  f0             f1             f2        product\n",
      "count  100000.000000  100000.000000  100000.000000  100000.000000\n",
      "mean        0.500419       0.250143       2.502647      92.500000\n",
      "std         0.871832       0.504433       3.248248      44.288691\n",
      "min        -1.408605      -0.848218     -12.088328       0.000000\n",
      "25%        -0.072580      -0.200881       0.287748      56.497507\n",
      "50%         0.502360       0.250252       2.515969      91.849972\n",
      "75%         1.073581       0.700646       4.715088     128.564089\n",
      "max         2.362331       1.343769      16.003790     185.364347\n",
      " \n"
     ]
    }
   ],
   "source": [
    "# Mostrar estadísticas descriptivas de los tres conjuntos de datos\n",
    "n =0\n",
    "for i in data_sets:\n",
    "    print(f'geo_{n}:')\n",
    "    print(geo_0.describe())\n",
    "    print(' ')\n",
    "    n = n+1"
   ]
  },
  {
   "cell_type": "code",
   "execution_count": 7,
   "metadata": {},
   "outputs": [
    {
     "name": "stdout",
     "output_type": "stream",
     "text": [
      "geo_0:\n",
      "<class 'pandas.core.frame.DataFrame'>\n",
      "RangeIndex: 100000 entries, 0 to 99999\n",
      "Data columns (total 5 columns):\n",
      " #   Column   Non-Null Count   Dtype  \n",
      "---  ------   --------------   -----  \n",
      " 0   id       100000 non-null  object \n",
      " 1   f0       100000 non-null  float64\n",
      " 2   f1       100000 non-null  float64\n",
      " 3   f2       100000 non-null  float64\n",
      " 4   product  100000 non-null  float64\n",
      "dtypes: float64(4), object(1)\n",
      "memory usage: 3.8+ MB\n",
      "None\n",
      " \n",
      "geo_1:\n",
      "<class 'pandas.core.frame.DataFrame'>\n",
      "RangeIndex: 100000 entries, 0 to 99999\n",
      "Data columns (total 5 columns):\n",
      " #   Column   Non-Null Count   Dtype  \n",
      "---  ------   --------------   -----  \n",
      " 0   id       100000 non-null  object \n",
      " 1   f0       100000 non-null  float64\n",
      " 2   f1       100000 non-null  float64\n",
      " 3   f2       100000 non-null  float64\n",
      " 4   product  100000 non-null  float64\n",
      "dtypes: float64(4), object(1)\n",
      "memory usage: 3.8+ MB\n",
      "None\n",
      " \n",
      "geo_2:\n",
      "<class 'pandas.core.frame.DataFrame'>\n",
      "RangeIndex: 100000 entries, 0 to 99999\n",
      "Data columns (total 5 columns):\n",
      " #   Column   Non-Null Count   Dtype  \n",
      "---  ------   --------------   -----  \n",
      " 0   id       100000 non-null  object \n",
      " 1   f0       100000 non-null  float64\n",
      " 2   f1       100000 non-null  float64\n",
      " 3   f2       100000 non-null  float64\n",
      " 4   product  100000 non-null  float64\n",
      "dtypes: float64(4), object(1)\n",
      "memory usage: 3.8+ MB\n",
      "None\n",
      " \n"
     ]
    }
   ],
   "source": [
    "# Mostrar información general de los tres conjuntos de datos\n",
    "n =0\n",
    "for i in data_sets:\n",
    "    print(f'geo_{n}:')\n",
    "    print(geo_0.info())\n",
    "    print(' ')\n",
    "    n = n+1"
   ]
  },
  {
   "cell_type": "markdown",
   "metadata": {},
   "source": [
    "### Descripción y observaciones del DataFrame."
   ]
  },
  {
   "cell_type": "markdown",
   "metadata": {},
   "source": [
    "Cada observación en el dataset contiene información del comportamiento mensual sobre un usuario. La información dada es la siguiente:\n",
    "\n",
    "<code style=\"background:grey;color:black\">id</code> — identificador único de pozo de petróleo\n",
    "<br>\n",
    "<code style=\"background:grey;color:black\">f0, f1, f2</code> — tres características de los puntos (su significado específico no es importante, pero las características en sí son significativas)\n",
    "<br>\n",
    "<code style=\"background:grey;color:black\">product</code> — volumen de reservas en el pozo de petróleo (miles de barriles)."
   ]
  },
  {
   "cell_type": "markdown",
   "metadata": {},
   "source": [
    "Hay un total de 100.000 observaciones en cada conjunto de datos\n",
    "\n",
    "- En los datos no observo valores NaN, ningún tipo D incorrecto ni nada más que deba corregirse.\n",
    "- La columna <code style=\"background:grey;color:black\">id</code> se eliminará de los DataFrames ya que no es necesaria para nuestro modelo."
   ]
  },
  {
   "cell_type": "markdown",
   "metadata": {},
   "source": [
    "### Preparación de datos para la capacitación y validación del modelo"
   ]
  },
  {
   "cell_type": "code",
   "execution_count": 8,
   "metadata": {},
   "outputs": [],
   "source": [
    "geo_0 = geo_0.drop('id', axis=1)\n",
    "geo_1 = geo_1.drop('id', axis=1)\n",
    "geo_2 = geo_2.drop('id', axis=1)"
   ]
  },
  {
   "cell_type": "code",
   "execution_count": 9,
   "metadata": {},
   "outputs": [
    {
     "name": "stdout",
     "output_type": "stream",
     "text": [
      "geo_0:\n",
      "         f0        f1        f2     product\n",
      "0  0.705745 -0.497823  1.221170  105.280062\n",
      "1  1.334711 -0.340164  4.365080   73.037750\n",
      "2  1.022732  0.151990  1.419926   85.265647\n",
      "3 -0.032172  0.139033  2.978566  168.620776\n",
      "4  1.988431  0.155413  4.751769  154.036647\n",
      " \n",
      "geo_1:\n",
      "         f0        f1        f2     product\n",
      "0  0.705745 -0.497823  1.221170  105.280062\n",
      "1  1.334711 -0.340164  4.365080   73.037750\n",
      "2  1.022732  0.151990  1.419926   85.265647\n",
      "3 -0.032172  0.139033  2.978566  168.620776\n",
      "4  1.988431  0.155413  4.751769  154.036647\n",
      " \n",
      "geo_2:\n",
      "         f0        f1        f2     product\n",
      "0  0.705745 -0.497823  1.221170  105.280062\n",
      "1  1.334711 -0.340164  4.365080   73.037750\n",
      "2  1.022732  0.151990  1.419926   85.265647\n",
      "3 -0.032172  0.139033  2.978566  168.620776\n",
      "4  1.988431  0.155413  4.751769  154.036647\n",
      " \n"
     ]
    }
   ],
   "source": [
    "# Mostrando las primeras cinco filas en los tres conjuntos de datos\n",
    "n =0\n",
    "for i in data_sets:\n",
    "    print(f'geo_{n}:')\n",
    "    print(geo_0.head())\n",
    "    print(' ')\n",
    "    n = n+1"
   ]
  },
  {
   "cell_type": "markdown",
   "metadata": {},
   "source": [
    "## Entrenar y probar el modelo para cada región\n",
    "***\n",
    "\n",
    "A continuación, los datos se dividirán en consecuencia:\n",
    "\n",
    "- 75% conjunto de entrenamiento\n",
    "- 25% conjunto de validación\n",
    "\n",
    "Nuestro modelo será entrenado sobre el conjunto de entrenamiento, para luego poder predecir el volumen de reservas en el pozo petrolero."
   ]
  },
  {
   "cell_type": "code",
   "execution_count": 10,
   "metadata": {},
   "outputs": [],
   "source": [
    "# Función para entrenar un modelo y hacer predicciones.\n",
    "def train_test_predict(data):\n",
    "    \"\"\" \n",
    "    Esta función declara variables para características y objetivos, \n",
    "    divide los datos en conjuntos de entrenamiento y validación, \n",
    "    entrena el modelo y realiza predicciones utilizando un algoritmo de regresión lineal.\n",
    "    \"\"\"\n",
    "\n",
    "    # declarar variables para features and target\n",
    "    target = data['product']\n",
    "    features = data.drop(['product'], axis=1)\n",
    "\n",
    "    # dividir los datos en 75% de conjuntos de entrenamiento y 25% de validación\n",
    "    features_train, features_test, target_train, target_test = train_test_split(\n",
    "        features, target, test_size=0.25, random_state=12345\n",
    "    )\n",
    "    \n",
    "    # características de escalado\n",
    "    scaler = StandardScaler()\n",
    "    scaler.fit(features_train)\n",
    "    # transform the training set and the test set using transform()\n",
    "    features_train = scaler.transform(features_train)\n",
    "    features_test  = scaler.transform(features_test)\n",
    "\n",
    "    # modelo de regresión lineal\n",
    "    model = LinearRegression()\n",
    "    model.fit(features_train, target_train) # train model\n",
    "    test_predictions = pd.Series(model.predict(features_test), index=target_test.index) # make prediction using test set\n",
    "    return test_predictions, target_test\n",
    "\n",
    "# función para calcular métricas de regresión\n",
    "def reg_metrics(y_test, y_pred):\n",
    "    print('Mean absolute error: %.2f' % mean_absolute_error(y_test, y_pred))\n",
    "    print('Puntuación de varianza explicada: %.4f' % explained_variance_score(y_test, y_pred))\n",
    "    print('Mean squared error: %.3f' % mean_squared_error(y_test, y_pred))\n",
    "    print(\"RMSE: %.4f\" % np.sqrt(mean_squared_error(y_test, y_pred)))\n",
    "    print('Puntuación de varianza: %.4f' % r2_score(y_test, y_pred))\n",
    "    forecast_err = np.array(y_test) - np.array(y_pred)\n",
    "    print('Sesgo de pronóstico: %.4f' % (np.sum(forecast_err) * 1.0/len(y_pred)))"
   ]
  },
  {
   "cell_type": "markdown",
   "metadata": {},
   "source": [
    "### Geo_0"
   ]
  },
  {
   "cell_type": "code",
   "execution_count": 11,
   "metadata": {
    "scrolled": true
   },
   "outputs": [
    {
     "name": "stdout",
     "output_type": "stream",
     "text": [
      "Mean absolute error: 30.92\n",
      "Puntuación de varianza explicada: -1.6286\n",
      "Mean squared error: 1412.213\n",
      "RMSE: 37.5794\n",
      "Puntuación de varianza: -1.6291\n",
      "Sesgo de pronóstico: 0.5140\n",
      "Volumen medio de reservas: 92.08\n",
      "El volumen promedio de reservas previstas es: 92.59\n",
      "El RMSE del modelo es: 37.5794\n"
     ]
    }
   ],
   "source": [
    "# almacenar predicciones y probar conjuntos de datos\n",
    "test_predictions_0, target_test_0 = train_test_predict(geo_0)\n",
    "\n",
    "# métrica de regresión para geo_0\n",
    "reg_metrics(test_predictions_0, target_test_0)\n",
    "\n",
    "# volumen de reservas previstas y reservas reales\n",
    "print('Volumen medio de reservas: %.2f' % target_test_0.mean())\n",
    "print('El volumen promedio de reservas previstas es: %.2f' % test_predictions_0.mean())\n",
    "print(\"El RMSE del modelo es: %.4f\" % np.sqrt(mean_squared_error(test_predictions_0, target_test_0)))"
   ]
  },
  {
   "cell_type": "markdown",
   "metadata": {},
   "source": [
    "### Geo_1"
   ]
  },
  {
   "cell_type": "code",
   "execution_count": 12,
   "metadata": {},
   "outputs": [
    {
     "name": "stdout",
     "output_type": "stream",
     "text": [
      "Mean absolute error: 0.72\n",
      "Puntuación de varianza explicada: 0.9996\n",
      "Mean squared error: 0.798\n",
      "RMSE: 0.8931\n",
      "Puntuación de varianza: 0.9996\n",
      "Sesgo de pronóstico: 0.0054\n",
      "Volumen medio de reservas: 68.72\n",
      "El volumen promedio de reservas previstas es: 68.73\n",
      "El RMSE del modelo es: 0.8931\n"
     ]
    }
   ],
   "source": [
    "# almacenar predicciones y probar conjuntos de datos\n",
    "test_predictions_1, target_test_1 = train_test_predict(geo_1)\n",
    "\n",
    "# métrica de regresión para geo_1\n",
    "reg_metrics(test_predictions_1, target_test_1)\n",
    "\n",
    "# volumen de reservas previstas y reservas reales\n",
    "print('Volumen medio de reservas: %.2f' % target_test_1.mean())\n",
    "print('El volumen promedio de reservas previstas es: %.2f' % test_predictions_1.mean())\n",
    "print(\"El RMSE del modelo es: %.4f\" % np.sqrt(mean_squared_error(test_predictions_1, target_test_1)))"
   ]
  },
  {
   "cell_type": "markdown",
   "metadata": {},
   "source": [
    "### Geo_2"
   ]
  },
  {
   "cell_type": "code",
   "execution_count": 13,
   "metadata": {},
   "outputs": [
    {
     "name": "stdout",
     "output_type": "stream",
     "text": [
      "Mean absolute error: 32.79\n",
      "Puntuación de varianza explicada: -3.0653\n",
      "Mean squared error: 1602.378\n",
      "RMSE: 40.0297\n",
      "Puntuación de varianza: -3.0653\n",
      "Sesgo de pronóstico: 0.0808\n",
      "Volumen medio de reservas: 94.88\n",
      "El volumen promedio de reservas previstas es: 94.97\n",
      "El RMSE del modelo es: 40.0297\n"
     ]
    }
   ],
   "source": [
    "# almacenar predicciones y probar conjuntos de datos\n",
    "test_predictions_2, target_test_2 = train_test_predict(geo_2)\n",
    "\n",
    "# métrica de regresión para geo_2\n",
    "reg_metrics(test_predictions_2, target_test_2)\n",
    "\n",
    "# volumen de reservas previstas y reservas reales\n",
    "print('Volumen medio de reservas: %.2f' % target_test_2.mean())\n",
    "print('El volumen promedio de reservas previstas es: %.2f' % test_predictions_2.mean())\n",
    "print(\"El RMSE del modelo es: %.4f\" % np.sqrt(mean_squared_error(test_predictions_2, target_test_2)))"
   ]
  },
  {
   "cell_type": "markdown",
   "metadata": {},
   "source": [
    "### Conclusión"
   ]
  },
  {
   "cell_type": "markdown",
   "metadata": {},
   "source": [
    "**geo_0**\n",
    "- La puntuación R2 de **-1,62** significa que la calidad del modelo es baja\n",
    "- El error medio de cada pozo es de **30,92 mil barriles**.\n",
    "- El valor RMSE de **37,58 mil** es relativamente alto y podría indicar valores atípicos en los datos\n",
    "- El modelo sobrepredice las reservas promedio\n",
    "\n",
    "**geo_1**\n",
    "- La puntuación R2 de **0,9996** indica que la calidad del modelo es alta\n",
    "- El bajo valor MAE de **0,72 mil** barriles significa que el modelo es un predictor perfecto de la reserva en esta región\n",
    "- El bajo valor RMSE de **0,89 mil** barriles indica que el modelo está dando una predicción cercana a la reserva real\n",
    "\n",
    "**geo_2**\n",
    "- La métrica R2 es muy baja, **-3,06**, lo que indica una mala calidad del modelo.\n",
    "- El alto valor MAE de **32,79 mil** barriles y el alto valor RMSE de **40,03 mil** barriles indican una sobrepredicción del valor promedio de las reservas por parte del modelo.\n"
   ]
  },
  {
   "cell_type": "markdown",
   "metadata": {},
   "source": [
    "## Preparar datos para el cálculo de ganancias\n",
    "***"
   ]
  },
  {
   "cell_type": "code",
   "execution_count": 14,
   "metadata": {},
   "outputs": [],
   "source": [
    "# Almacenar valores clave en variables separadas\n",
    "region_points = 500 # Se necesitan 500 pozos petroleros\n",
    "best_region_for_profit = 200 # 200 pozos petroleros\n",
    "capital_cost = 100 * 10**6 # Presupuesto de desarrollo para 200 pozos (100 millones de dólares).\n",
    "cost_per_bbl = 4.5 # ingresos de 1 unidad de producto (en miles de barriles) = $4,500\n",
    "risk_of_losses = 0.025"
   ]
  },
  {
   "cell_type": "code",
   "execution_count": 15,
   "metadata": {},
   "outputs": [
    {
     "name": "stdout",
     "output_type": "stream",
     "text": [
      "El volumen de reservas necesario para desarrollar un nuevo pozo sin pérdidas: 111111.11 Stock Tank Barrels (STB).\n"
     ]
    }
   ],
   "source": [
    "# calcular el volumen de reservas para desarrollar un nuevo pozo sin pérdidas\n",
    "revenue = cost_per_bbl * best_region_for_profit\n",
    "volume_of_reserves = capital_cost / revenue\n",
    "print('El volumen de reservas necesario para desarrollar un nuevo pozo sin pérdidas: %.2f' % volume_of_reserves, 'Stock Tank Barrels (STB).')"
   ]
  },
  {
   "cell_type": "markdown",
   "metadata": {},
   "source": [
    "- Calculando el volumen de reservas suficientes para desarrollar un nuevo pozo sin pérdidas en **111,11 mil** barriles. Este volumen será nuestro **valor de referencia**\n",
    "- Al comparar este valor con el volumen promedio de reservas en cada región, podemos ver que el volumen promedio de reservas en cada región es **inferior a 111,11 mil** barriles."
   ]
  },
  {
   "cell_type": "markdown",
   "metadata": {},
   "source": [
    "## Calcule las ganancias \n",
    "***"
   ]
  },
  {
   "cell_type": "code",
   "execution_count": 16,
   "metadata": {},
   "outputs": [],
   "source": [
    "# función para calcular la predicción más alta en cada región\n",
    "def highest_prediction(y_test, y_pred, count):\n",
    "    highest_reserves_volume_predicted = y_pred.sort_values(ascending=False)\n",
    "    selected_reserves_volume_target = y_test[highest_reserves_volume_predicted.index][:count]\n",
    "    total_selected_reserves_volume_target = selected_reserves_volume_target.sum() * 1000\n",
    "    print('El valor más alto previsto en esta región es: %.2f' % total_selected_reserves_volume_target,\n",
    "          'STB o %.2f' % (total_selected_reserves_volume_target / 10**6), 'MMSTB')\n",
    "\n",
    "# función para calcular las ganancias de un conjunto de pozos petroleros seleccionados y predicciones de modelos\n",
    "def reserves_profit(y_test, y_pred, count):\n",
    "    highest_reserves_volume_predicted = y_pred.sort_values(ascending=False)\n",
    "    selected_reserves_volume_target = y_test[highest_reserves_volume_predicted.index][:count]\n",
    "    total_selected_reserves_volume_target = selected_reserves_volume_target.sum() * 1000\n",
    "    selected_reserves_profit = total_selected_reserves_volume_target * cost_per_bbl - capital_cost\n",
    "    print('La ganancia de reservas seleccionada es: $%.2f' % selected_reserves_profit)"
   ]
  },
  {
   "cell_type": "markdown",
   "metadata": {},
   "source": [
    "### Valores de las predicciones"
   ]
  },
  {
   "cell_type": "markdown",
   "metadata": {},
   "source": [
    "#### Geo_0"
   ]
  },
  {
   "cell_type": "code",
   "execution_count": 17,
   "metadata": {
    "scrolled": true
   },
   "outputs": [
    {
     "name": "stdout",
     "output_type": "stream",
     "text": [
      "El valor más alto previsto en esta región es: 29601835.65 STB o 29.60 MMSTB\n"
     ]
    }
   ],
   "source": [
    "# predicción del valor más alto en geo_0\n",
    "highest_prediction(target_test_0, test_predictions_0, 200)"
   ]
  },
  {
   "cell_type": "markdown",
   "metadata": {},
   "source": [
    "#### Geo_1"
   ]
  },
  {
   "cell_type": "code",
   "execution_count": 18,
   "metadata": {},
   "outputs": [
    {
     "name": "stdout",
     "output_type": "stream",
     "text": [
      "El valor más alto previsto en esta región es: 27589081.55 STB o 27.59 MMSTB\n"
     ]
    }
   ],
   "source": [
    "# predicción del valor más alto en geo_1\n",
    "highest_prediction(target_test_1, test_predictions_1, 200)"
   ]
  },
  {
   "cell_type": "markdown",
   "metadata": {},
   "source": [
    "#### Geo_2"
   ]
  },
  {
   "cell_type": "code",
   "execution_count": 19,
   "metadata": {},
   "outputs": [
    {
     "name": "stdout",
     "output_type": "stream",
     "text": [
      "El valor más alto previsto en esta región es: 28245222.14 STB o 28.25 MMSTB\n"
     ]
    }
   ],
   "source": [
    "# predicción del valor más alto en geo_2\n",
    "highest_prediction(target_test_2, test_predictions_2, 200)"
   ]
  },
  {
   "cell_type": "markdown",
   "metadata": {},
   "source": [
    "El valor más alto previsto dentro de las tres regiones se observa en **geo_0**"
   ]
  },
  {
   "cell_type": "markdown",
   "metadata": {},
   "source": [
    "### Ganancias por volumen de reservas en cada región"
   ]
  },
  {
   "cell_type": "markdown",
   "metadata": {},
   "source": [
    "#### Geo_0"
   ]
  },
  {
   "cell_type": "code",
   "execution_count": 20,
   "metadata": {
    "scrolled": true
   },
   "outputs": [
    {
     "name": "stdout",
     "output_type": "stream",
     "text": [
      "La ganancia de reservas seleccionada es: $33208260.43\n"
     ]
    }
   ],
   "source": [
    "# Ganancias de un conjunto de pozos petroleros seleccionados y predicciones de modelos en geo_0\n",
    "reserves_profit(target_test_0, test_predictions_0, 200)"
   ]
  },
  {
   "cell_type": "markdown",
   "metadata": {},
   "source": [
    "#### Geo_1"
   ]
  },
  {
   "cell_type": "code",
   "execution_count": 21,
   "metadata": {},
   "outputs": [
    {
     "name": "stdout",
     "output_type": "stream",
     "text": [
      "La ganancia de reservas seleccionada es: $24150866.97\n"
     ]
    }
   ],
   "source": [
    "# Ganancias de un conjunto de pozos petroleros seleccionados y predicciones de modelos en geo_1\n",
    "reserves_profit(target_test_1, test_predictions_1, 200)"
   ]
  },
  {
   "cell_type": "markdown",
   "metadata": {},
   "source": [
    "#### Geo_2"
   ]
  },
  {
   "cell_type": "code",
   "execution_count": 22,
   "metadata": {},
   "outputs": [
    {
     "name": "stdout",
     "output_type": "stream",
     "text": [
      "La ganancia de reservas seleccionada es: $27103499.64\n"
     ]
    }
   ],
   "source": [
    "# Ganancias de un conjunto de pozos petroleros seleccionados y predicciones de modelos en geo_2\n",
    "reserves_profit(target_test_2, test_predictions_2, 200)"
   ]
  },
  {
   "cell_type": "markdown",
   "metadata": {},
   "source": [
    "La ganancia más alta prevista dentro de las tres regiones se observa en **geo_0**. La ganancia es **33 millones de dólares**"
   ]
  },
  {
   "cell_type": "markdown",
   "metadata": {},
   "source": [
    "## Calcule los riesgos y ganancias para cada región\n",
    "***\n",
    "\n",
    "Utilizando la técnica bootstrapping para la distribución de ganancias"
   ]
  },
  {
   "cell_type": "code",
   "execution_count": 23,
   "metadata": {},
   "outputs": [],
   "source": [
    "# calcular la distribución de ganancias\n",
    "def revenue(y_test, y_pred, count):\n",
    "    highest_reserves_volume_predicted = y_pred.sort_values(ascending=False)\n",
    "    selected_reserves_volume_target = y_test[highest_reserves_volume_predicted.index][:count]\n",
    "    total_selected_reserves_volume_target = selected_reserves_volume_target.sum() * 1000\n",
    "    selected_reserves_profit = total_selected_reserves_volume_target * cost_per_bbl - capital_cost\n",
    "    return selected_reserves_profit\n",
    "\n",
    "# calcular las ganancias a partir de 1000 muestras de ingresos utilizando la técnica de arranque\n",
    "def bootstrapping_revenue(y_test, y_pred):\n",
    "    state = np.random.RandomState(12345) \n",
    "    \n",
    "    # almacenar los valores cuantiles del 99% en la variable de beneficio\n",
    "    profit = []\n",
    "    for i in range(1000):\n",
    "        target_subsample = y_test.sample(n=region_points, replace=True, random_state=state)\n",
    "        predicted_subsample = y_pred[target_subsample.index]\n",
    "        profit.append(revenue(target_subsample, predicted_subsample, best_region_for_profit))\n",
    "    return pd.Series(profit)\n",
    "\n",
    "# calcular las ganancias de arranque, el intervalo de confianza y el riesgo de pérdidas\n",
    "def bootstrap_profit_ci_risk(y_test, y_pred):\n",
    "    profit = bootstrapping_revenue(y_test, y_pred) # ambiar el tipo por conveniencia\n",
    "    mean_profit = profit.mean() # ganancias promedio\n",
    "    confidence_interval = st.t.interval(\n",
    "        0.95, len(profit)-1, mean_profit, profit.sem()\n",
    "    ) # 95% C.I.\n",
    "    losses = profit[profit < 0]\n",
    "    risk_of_losses = len(losses) / len(profit)\n",
    "    print('La ganancia promedio es: %.2f' % mean_profit)\n",
    "    print('El intervalo de confianza del 95%: ', confidence_interval)\n",
    "    print('El riesgo de pérdidas es: {:.2%}'.format(risk_of_losses))"
   ]
  },
  {
   "cell_type": "markdown",
   "metadata": {},
   "source": [
    "A continuación encontraré la ganancia promedio, los intervalos de confianza del 95% y el riesgo de pérdidas en cada región:"
   ]
  },
  {
   "cell_type": "markdown",
   "metadata": {},
   "source": [
    "### Geo_0"
   ]
  },
  {
   "cell_type": "code",
   "execution_count": 24,
   "metadata": {
    "scrolled": true
   },
   "outputs": [
    {
     "name": "stdout",
     "output_type": "stream",
     "text": [
      "La ganancia promedio es: 4259385.27\n",
      "El intervalo de confianza del 95%:  (4087322.0706869857, 4431448.467524861)\n",
      "El riesgo de pérdidas es: 6.00%\n"
     ]
    }
   ],
   "source": [
    "# ganancias promedio, 95% C.I: y riesgo en geo_0\n",
    "bootstrap_profit_ci_risk(target_test_0, test_predictions_0)"
   ]
  },
  {
   "cell_type": "markdown",
   "metadata": {},
   "source": [
    "### Geo_1"
   ]
  },
  {
   "cell_type": "code",
   "execution_count": 25,
   "metadata": {},
   "outputs": [
    {
     "name": "stdout",
     "output_type": "stream",
     "text": [
      "La ganancia promedio es: 5152227.73\n",
      "El intervalo de confianza del 95%:  (5016214.761763217, 5288240.70710258)\n",
      "El riesgo de pérdidas es: 1.00%\n"
     ]
    }
   ],
   "source": [
    "# ganancias promedio, 95% C.I: y riesgo en geo_1\n",
    "bootstrap_profit_ci_risk(target_test_1, test_predictions_1)"
   ]
  },
  {
   "cell_type": "markdown",
   "metadata": {},
   "source": [
    "### Geo_2"
   ]
  },
  {
   "cell_type": "code",
   "execution_count": 26,
   "metadata": {
    "scrolled": true
   },
   "outputs": [
    {
     "name": "stdout",
     "output_type": "stream",
     "text": [
      "La ganancia promedio es: 4350083.63\n",
      "El intervalo de confianza del 95%:  (4174535.520413578, 4525631.735241534)\n",
      "El riesgo de pérdidas es: 6.40%\n"
     ]
    }
   ],
   "source": [
    "# ganancias promedio, 95% C.I: y riesgo en geo_2\n",
    "bootstrap_profit_ci_risk(target_test_2, test_predictions_2)"
   ]
  },
  {
   "cell_type": "markdown",
   "metadata": {},
   "source": [
    "### Distribución de ganancias"
   ]
  },
  {
   "cell_type": "code",
   "execution_count": 27,
   "metadata": {
    "scrolled": true
   },
   "outputs": [
    {
     "data": {
      "image/png": "[encoded data removed]",
      "text/plain": [
       "<Figure size 960x560 with 1 Axes>"
      ]
     },
     "metadata": {},
     "output_type": "display_data"
    }
   ],
   "source": [
    "# ganancias de cada región\n",
    "geo_0_profit = bootstrapping_revenue(target_test_0, test_predictions_0)\n",
    "geo_1_profit = bootstrapping_revenue(target_test_1, test_predictions_1)\n",
    "geo_2_profit = bootstrapping_revenue(target_test_2, test_predictions_2)\n",
    "\n",
    "# diagrama de distribuciones\n",
    "kwargs = dict(hist_kws={'alpha': 0.6}, kde_kws={'linewidth':2})\n",
    "\n",
    "plt.figure(figsize=(12,7), dpi= 80)\n",
    "sns.distplot(geo_0_profit, color='red', label='geo_0', **kwargs)\n",
    "sns.distplot(geo_1_profit, color='green', label='geo_1', **kwargs)\n",
    "sns.distplot(geo_2_profit, color='blue', label='geo_2', **kwargs)\n",
    "plt.axvline(0, c=\"r\")\n",
    "plt.title('Distribuciones de ganancias en cada región mediante la técnica de bootstrapping')\n",
    "plt.legend();"
   ]
  },
  {
   "cell_type": "markdown",
   "metadata": {},
   "source": [
    "Desde la técnica de bootstrapping se obtiene la mayor distribución de ganancias, **50 millones de USD - 52 millones de USD**, la ganancia promedio más alta, **51 millones de USD**, y el menor riesgo de pérdidas, **1.00%**. encontrado en el geo_1."
   ]
  },
  {
   "cell_type": "markdown",
   "metadata": {},
   "source": [
    "## Conclusión\n",
    "***"
   ]
  },
  {
   "cell_type": "markdown",
   "metadata": {},
   "source": [
    "El objetivo de este proyecto es encontrar el mejor lugar para un nuevo pozo para la empresa minera OilyGiant.\n",
    "\n",
    "Primero, descargué los conjuntos de datos de las tres regiones e investigué la información general para encontrar fallas y fallas en los datos.\n",
    "- Cada uno de los conjuntos de datos contiene **100.000** observaciones y **3 columnas**.\n",
    "- Lo único que había que corregir era la columna <code style=\"background:grey;color:black\">id</code> que se eliminó.\n",
    "\n",
    "Posteriormente se realizó lo siguiente:\n",
    "- Los datos se dividieron en un conjunto de entrenamiento **(75%)** y un conjunto de entrenamiento **(25%)**\n",
    "- Se estandarizaron las características numéricas de los datos.\n",
    "- La tabla resultante tenía 75000 filas y 3 funciones para el conjunto de entrenamiento, y 25000 filas y 3 funciones para el conjunto de prueba.\n",
    "- Entrené el modelo e hice predicciones usando un Algoritmo de Regresión Lineal.\n",
    "- Predije el volumen de reservas de los pozos de petróleo.\n",
    "- Luego calculé diferentes métricas de regresión.\n",
    "    - **geo_0:** la métrica **R2 es -1,62**, lo que significa que la calidad del modelo es baja, el error medio para cada pozo es **30,92 mil barriles** y el alto valor **RMSE de 37,58 mil barriles** indica que puede haber valores atípicos en los datos.\n",
    "    - **geo_1:** la métrica **R2 es 0,9996**, lo que indica que la calidad del modelo es buena. El bajo valor MAE de **0,72 mil barriles** significa que el modelo es un predictor perfecto de la reserva en esta región, y el bajo valor **RMSE de 0,89 mil barriles** indica que el modelo está dando una predicción cercana a la reserva real.\n",
    "    - **geo_2:** la métrica **R2 es muy baja, -3,06**, lo que indica una mala calidad del modelo en esta región. El alto valor MAE de **32,79 mil barriles** y el alto valor **RMSE de 40,03 mil barriles** indican una predicción excesiva del valor promedio de las reservas por parte del modelo en geo_2.\n",
    "    - Calculamos el volumen de reservas suficientes para desarrollar un nuevo pozo sin pérdida de ganancias **(111,11 mil barriles)**\n",
    "- Comparando este valor con el volumen promedio de reservas en cada región, vemos que el volumen promedio de reservas en cada región es inferior a **111,11 mil barriles**\n",
    "- Desarrollé una función para calcular la ganancia de un conjunto de pozos petroleros seleccionados y predicciones de modelos. Del cálculo de los valores más altos de predicción, podemos ver que geo_0 tiene la predicción más alta de las tres regiones. geo_0 puede ser una región prometedora para continuar con más actividades de perforación.\n",
    "- Apliqué la técnica de bootstrapping para encontrar la distribución de utilidad. - Calculé el beneficio medio, el intervalo de confianza del 95% y el riesgo de pérdidas. De los cálculos realizados observamos que:\n",
    "    - **geo_1** tiene la mayor distribución de ganancias, la mayor ganancia promedio y el menor riesgo de pérdidas que cualquier otra región.\n",
    "    - **geo_1** generó el beneficio promedio más alto que otras regiones con un riesgo de pérdidas inferior al 2,5%, podemos recomendar que la empresa minera OilyGiant se centre más en geo_1 para el desarrollo de los pozos petroleros.\n",
    "    \n",
    "**Recomendaciones:**\n",
    "\n",
    "Con base en los hallazgos, la recomendación es continuar con el desarrollo de pozos petroleros en **geo_1**. La combinación de altas reservas previstas, ganancias promedio sustanciales y bajo riesgo de pérdida hace que **geo_1** sea la opción óptima cuando se trata de desarrollos de nuevos pozos petroleros.\n",
    "\n",
    "**Geo_0** y **geo_2:**: se ha determinado que estas regiones son demasiado riesgosas para el desarrollo. El riesgo de pérdida excede los umbrales aceptables y las ganancias potenciales no justifican el mayor riesgo.\n",
    "\n",
    "En conclusión, **geo_1** ofrece el mejor equilibrio entre rentabilidad y riesgo, lo que lo convierte en la opción más viable para el desarrollo de nuevos pozos petroleros. No recomiendo invertir en **geo_0** y **geo_2** debido a sus perfiles de riesgo desfavorables."
   ]
  },
  {
   "cell_type": "code",
   "execution_count": null,
   "metadata": {},
   "outputs": [],
   "source": []
  }
 ],
 "metadata": {
  "ExecuteTimeLog": [
   {
    "duration": 312,
    "start_time": "2024-07-23T02:46:24.866Z"
   },
   {
    "duration": 482,
    "start_time": "2024-07-23T02:46:46.236Z"
   },
   {
    "duration": 788,
    "start_time": "2024-07-23T02:46:46.722Z"
   },
   {
    "duration": 120,
    "start_time": "2024-07-23T02:47:13.584Z"
   },
   {
    "duration": 578,
    "start_time": "2024-07-23T02:48:02.211Z"
   },
   {
    "duration": 22,
    "start_time": "2024-07-23T02:48:14.235Z"
   },
   {
    "duration": 19,
    "start_time": "2024-07-23T02:48:18.303Z"
   },
   {
    "duration": 21,
    "start_time": "2024-07-23T02:48:27.709Z"
   },
   {
    "duration": 6,
    "start_time": "2024-07-23T02:48:29.590Z"
   },
   {
    "duration": 9,
    "start_time": "2024-07-23T02:49:16.961Z"
   },
   {
    "duration": 5,
    "start_time": "2024-07-23T02:49:41.227Z"
   },
   {
    "duration": 364,
    "start_time": "2024-07-23T02:49:52.617Z"
   },
   {
    "duration": 11,
    "start_time": "2024-07-23T02:49:55.967Z"
   },
   {
    "duration": 22,
    "start_time": "2024-07-23T02:50:20.469Z"
   },
   {
    "duration": 21,
    "start_time": "2024-07-23T02:50:29.930Z"
   },
   {
    "duration": 362,
    "start_time": "2024-07-23T02:50:34.420Z"
   },
   {
    "duration": 7,
    "start_time": "2024-07-23T02:50:34.786Z"
   },
   {
    "duration": 3,
    "start_time": "2024-07-23T02:53:24.871Z"
   },
   {
    "duration": 43,
    "start_time": "2024-07-23T02:53:36.495Z"
   },
   {
    "duration": 14,
    "start_time": "2024-07-23T02:53:59.158Z"
   },
   {
    "duration": 4,
    "start_time": "2024-07-23T02:54:27.636Z"
   },
   {
    "duration": 9,
    "start_time": "2024-07-23T02:54:46.932Z"
   },
   {
    "duration": 7,
    "start_time": "2024-07-23T02:55:26.555Z"
   },
   {
    "duration": 105,
    "start_time": "2024-07-23T02:55:31.022Z"
   },
   {
    "duration": 46,
    "start_time": "2024-07-23T02:55:51.459Z"
   },
   {
    "duration": 16,
    "start_time": "2024-07-23T03:00:09.311Z"
   },
   {
    "duration": 388,
    "start_time": "2024-07-23T03:07:37.504Z"
   },
   {
    "duration": 16,
    "start_time": "2024-07-23T03:07:39.926Z"
   },
   {
    "duration": 10,
    "start_time": "2024-07-23T15:25:56.490Z"
   },
   {
    "duration": 3,
    "start_time": "2024-07-23T15:26:22.390Z"
   },
   {
    "duration": 5,
    "start_time": "2024-07-23T15:26:30.861Z"
   },
   {
    "duration": 5,
    "start_time": "2024-07-23T15:32:19.733Z"
   },
   {
    "duration": 337,
    "start_time": "2024-07-23T15:33:27.592Z"
   },
   {
    "duration": 21,
    "start_time": "2024-07-23T15:34:22.451Z"
   },
   {
    "duration": 21,
    "start_time": "2024-07-23T15:34:32.828Z"
   },
   {
    "duration": 6,
    "start_time": "2024-07-23T15:34:37.158Z"
   },
   {
    "duration": 20,
    "start_time": "2024-07-23T15:34:37.540Z"
   },
   {
    "duration": 28,
    "start_time": "2024-07-23T15:34:45.287Z"
   },
   {
    "duration": 6,
    "start_time": "2024-07-23T15:35:00.339Z"
   },
   {
    "duration": 10,
    "start_time": "2024-07-23T15:35:07.123Z"
   },
   {
    "duration": 27,
    "start_time": "2024-07-23T15:35:10.476Z"
   },
   {
    "duration": 7,
    "start_time": "2024-07-23T15:35:40.306Z"
   },
   {
    "duration": 25,
    "start_time": "2024-07-23T15:35:44.174Z"
   },
   {
    "duration": 5,
    "start_time": "2024-07-23T15:35:47.894Z"
   },
   {
    "duration": 56,
    "start_time": "2024-07-23T15:37:13.236Z"
   },
   {
    "duration": 436,
    "start_time": "2024-07-23T15:37:35.062Z"
   },
   {
    "duration": 495,
    "start_time": "2024-07-23T15:37:35.502Z"
   },
   {
    "duration": 354,
    "start_time": "2024-07-23T15:37:36.000Z"
   },
   {
    "duration": 0,
    "start_time": "2024-07-23T15:37:36.358Z"
   },
   {
    "duration": 0,
    "start_time": "2024-07-23T15:37:36.360Z"
   },
   {
    "duration": 1,
    "start_time": "2024-07-23T15:37:36.362Z"
   },
   {
    "duration": 0,
    "start_time": "2024-07-23T15:37:36.364Z"
   },
   {
    "duration": 0,
    "start_time": "2024-07-23T15:37:36.367Z"
   },
   {
    "duration": 0,
    "start_time": "2024-07-23T15:37:36.369Z"
   },
   {
    "duration": 0,
    "start_time": "2024-07-23T15:37:36.371Z"
   },
   {
    "duration": 16,
    "start_time": "2024-07-23T15:38:36.959Z"
   },
   {
    "duration": 5,
    "start_time": "2024-07-23T15:38:42.345Z"
   },
   {
    "duration": 8,
    "start_time": "2024-07-23T15:38:51.407Z"
   },
   {
    "duration": 103,
    "start_time": "2024-07-23T15:38:57.286Z"
   },
   {
    "duration": 41,
    "start_time": "2024-07-23T15:39:02.742Z"
   },
   {
    "duration": 5,
    "start_time": "2024-07-23T15:39:10.263Z"
   },
   {
    "duration": 42,
    "start_time": "2024-07-23T15:39:15.875Z"
   },
   {
    "duration": 4,
    "start_time": "2024-07-23T15:39:21.131Z"
   },
   {
    "duration": 41,
    "start_time": "2024-07-23T15:39:22.740Z"
   },
   {
    "duration": 31,
    "start_time": "2024-07-23T15:41:07.006Z"
   },
   {
    "duration": 26,
    "start_time": "2024-07-23T15:41:21.414Z"
   },
   {
    "duration": 21,
    "start_time": "2024-07-23T15:42:04.883Z"
   },
   {
    "duration": 23,
    "start_time": "2024-07-23T15:43:35.489Z"
   },
   {
    "duration": 11,
    "start_time": "2024-07-23T15:43:41.718Z"
   },
   {
    "duration": 16,
    "start_time": "2024-07-23T15:43:47.991Z"
   },
   {
    "duration": 15,
    "start_time": "2024-07-23T15:44:29.441Z"
   },
   {
    "duration": 28,
    "start_time": "2024-07-23T15:48:08.172Z"
   },
   {
    "duration": 29,
    "start_time": "2024-07-23T15:48:31.372Z"
   },
   {
    "duration": 41,
    "start_time": "2024-07-23T15:48:36.722Z"
   },
   {
    "duration": 734,
    "start_time": "2024-07-23T15:49:10.323Z"
   },
   {
    "duration": 23,
    "start_time": "2024-07-23T15:49:14.825Z"
   },
   {
    "duration": 17,
    "start_time": "2024-07-23T15:53:11.150Z"
   },
   {
    "duration": 235,
    "start_time": "2024-07-23T15:55:58.329Z"
   },
   {
    "duration": 18,
    "start_time": "2024-07-23T15:56:11.145Z"
   },
   {
    "duration": 16,
    "start_time": "2024-07-23T15:56:30.046Z"
   },
   {
    "duration": 25,
    "start_time": "2024-07-23T15:56:41.089Z"
   },
   {
    "duration": 24,
    "start_time": "2024-07-23T15:57:50.216Z"
   },
   {
    "duration": 18,
    "start_time": "2024-07-23T15:58:08.761Z"
   },
   {
    "duration": 19,
    "start_time": "2024-07-23T15:58:18.126Z"
   },
   {
    "duration": 22,
    "start_time": "2024-07-23T15:58:48.414Z"
   },
   {
    "duration": 19,
    "start_time": "2024-07-23T15:59:00.678Z"
   },
   {
    "duration": 17,
    "start_time": "2024-07-23T15:59:27.984Z"
   },
   {
    "duration": 17,
    "start_time": "2024-07-23T16:00:35.331Z"
   },
   {
    "duration": 16,
    "start_time": "2024-07-23T16:00:43.419Z"
   },
   {
    "duration": 3,
    "start_time": "2024-07-23T16:01:15.290Z"
   },
   {
    "duration": 17,
    "start_time": "2024-07-23T16:05:02.262Z"
   },
   {
    "duration": 18,
    "start_time": "2024-07-23T16:05:21.463Z"
   },
   {
    "duration": 18,
    "start_time": "2024-07-23T16:05:28.031Z"
   },
   {
    "duration": 19,
    "start_time": "2024-07-23T16:06:12.350Z"
   },
   {
    "duration": 14,
    "start_time": "2024-07-23T16:06:37.943Z"
   },
   {
    "duration": 20,
    "start_time": "2024-07-23T16:07:05.160Z"
   },
   {
    "duration": 19,
    "start_time": "2024-07-23T16:07:24.850Z"
   },
   {
    "duration": 10,
    "start_time": "2024-07-23T16:19:42.009Z"
   },
   {
    "duration": 6059,
    "start_time": "2024-07-23T16:20:23.923Z"
   },
   {
    "duration": 390,
    "start_time": "2024-07-23T16:20:29.988Z"
   },
   {
    "duration": 21,
    "start_time": "2024-07-23T16:20:30.381Z"
   },
   {
    "duration": 22,
    "start_time": "2024-07-23T16:20:30.405Z"
   },
   {
    "duration": 10,
    "start_time": "2024-07-23T16:20:30.432Z"
   },
   {
    "duration": 153,
    "start_time": "2024-07-23T16:20:30.446Z"
   },
   {
    "duration": 56,
    "start_time": "2024-07-23T16:20:30.601Z"
   },
   {
    "duration": 17,
    "start_time": "2024-07-23T16:20:30.663Z"
   },
   {
    "duration": 13,
    "start_time": "2024-07-23T16:20:30.683Z"
   },
   {
    "duration": 78,
    "start_time": "2024-07-23T16:20:30.726Z"
   },
   {
    "duration": 9,
    "start_time": "2024-07-23T16:22:53.771Z"
   },
   {
    "duration": 11,
    "start_time": "2024-07-23T16:23:29.426Z"
   },
   {
    "duration": 409,
    "start_time": "2024-07-23T16:23:56.509Z"
   },
   {
    "duration": 42,
    "start_time": "2024-07-23T16:24:05.838Z"
   },
   {
    "duration": 11,
    "start_time": "2024-07-23T16:24:25.660Z"
   },
   {
    "duration": 61,
    "start_time": "2024-07-23T16:24:27.431Z"
   },
   {
    "duration": 8,
    "start_time": "2024-07-23T16:25:33.458Z"
   },
   {
    "duration": 39,
    "start_time": "2024-07-23T16:26:53.823Z"
   },
   {
    "duration": 7,
    "start_time": "2024-07-23T16:27:14.449Z"
   },
   {
    "duration": 23,
    "start_time": "2024-07-23T16:28:24.630Z"
   },
   {
    "duration": 38,
    "start_time": "2024-07-23T16:28:30.050Z"
   },
   {
    "duration": 10,
    "start_time": "2024-07-23T16:28:42.656Z"
   },
   {
    "duration": 9,
    "start_time": "2024-07-23T17:01:03.599Z"
   },
   {
    "duration": 34,
    "start_time": "2024-07-23T17:01:40.191Z"
   },
   {
    "duration": 8,
    "start_time": "2024-07-23T17:03:01.074Z"
   },
   {
    "duration": 32,
    "start_time": "2024-07-23T17:03:06.307Z"
   },
   {
    "duration": 34,
    "start_time": "2024-07-23T17:03:57.387Z"
   },
   {
    "duration": 7,
    "start_time": "2024-07-23T17:04:37.316Z"
   },
   {
    "duration": 7,
    "start_time": "2024-07-23T17:06:00.790Z"
   },
   {
    "duration": 1585,
    "start_time": "2024-07-23T17:09:24.654Z"
   },
   {
    "duration": 371,
    "start_time": "2024-07-23T17:09:26.243Z"
   },
   {
    "duration": 17,
    "start_time": "2024-07-23T17:09:26.617Z"
   },
   {
    "duration": 5,
    "start_time": "2024-07-23T17:09:26.637Z"
   },
   {
    "duration": 7,
    "start_time": "2024-07-23T17:09:26.647Z"
   },
   {
    "duration": 142,
    "start_time": "2024-07-23T17:09:26.658Z"
   },
   {
    "duration": 59,
    "start_time": "2024-07-23T17:09:26.803Z"
   },
   {
    "duration": 11,
    "start_time": "2024-07-23T17:09:26.866Z"
   },
   {
    "duration": 15,
    "start_time": "2024-07-23T17:09:26.881Z"
   },
   {
    "duration": 10,
    "start_time": "2024-07-23T17:09:26.928Z"
   },
   {
    "duration": 37,
    "start_time": "2024-07-23T17:09:26.941Z"
   },
   {
    "duration": 51,
    "start_time": "2024-07-23T17:09:26.980Z"
   },
   {
    "duration": 107,
    "start_time": "2024-07-23T17:09:27.034Z"
   },
   {
    "duration": 7,
    "start_time": "2024-07-23T17:09:27.147Z"
   },
   {
    "duration": 174,
    "start_time": "2024-07-23T17:09:27.157Z"
   },
   {
    "duration": 7,
    "start_time": "2024-07-23T17:09:27.333Z"
   },
   {
    "duration": 38,
    "start_time": "2024-07-23T17:14:54.072Z"
   },
   {
    "duration": 35,
    "start_time": "2024-07-23T17:15:11.591Z"
   },
   {
    "duration": 34,
    "start_time": "2024-07-23T17:15:26.172Z"
   },
   {
    "duration": 7,
    "start_time": "2024-07-23T17:18:02.118Z"
   },
   {
    "duration": 10,
    "start_time": "2024-07-23T17:18:09.722Z"
   },
   {
    "duration": 6,
    "start_time": "2024-07-23T17:19:56.350Z"
   },
   {
    "duration": 10,
    "start_time": "2024-07-23T17:19:57.702Z"
   },
   {
    "duration": 4,
    "start_time": "2024-07-23T17:20:51.674Z"
   },
   {
    "duration": 5,
    "start_time": "2024-07-23T17:21:09.249Z"
   },
   {
    "duration": 7,
    "start_time": "2024-07-23T17:21:33.561Z"
   },
   {
    "duration": 10,
    "start_time": "2024-07-23T17:21:34.070Z"
   },
   {
    "duration": 10,
    "start_time": "2024-07-23T17:22:44.281Z"
   },
   {
    "duration": 10,
    "start_time": "2024-07-23T17:23:20.352Z"
   },
   {
    "duration": 5,
    "start_time": "2024-07-23T17:32:24.677Z"
   },
   {
    "duration": 6,
    "start_time": "2024-07-23T17:37:18.587Z"
   },
   {
    "duration": 5,
    "start_time": "2024-07-23T17:38:18.739Z"
   },
   {
    "duration": 12,
    "start_time": "2024-07-23T17:38:39.082Z"
   },
   {
    "duration": 7,
    "start_time": "2024-07-23T17:38:46.032Z"
   },
   {
    "duration": 96,
    "start_time": "2024-07-23T17:38:52.419Z"
   },
   {
    "duration": 29,
    "start_time": "2024-07-23T17:38:59.805Z"
   },
   {
    "duration": 26,
    "start_time": "2024-07-23T17:39:05.911Z"
   },
   {
    "duration": 13,
    "start_time": "2024-07-23T17:39:17.654Z"
   },
   {
    "duration": 3,
    "start_time": "2024-07-23T17:42:14.384Z"
   },
   {
    "duration": 1536,
    "start_time": "2024-07-23T20:07:04.258Z"
   },
   {
    "duration": 372,
    "start_time": "2024-07-23T20:07:05.797Z"
   },
   {
    "duration": 20,
    "start_time": "2024-07-23T20:07:06.173Z"
   },
   {
    "duration": 6,
    "start_time": "2024-07-23T20:07:06.198Z"
   },
   {
    "duration": 8,
    "start_time": "2024-07-23T20:07:06.228Z"
   },
   {
    "duration": 126,
    "start_time": "2024-07-23T20:07:06.239Z"
   },
   {
    "duration": 62,
    "start_time": "2024-07-23T20:07:06.369Z"
   },
   {
    "duration": 11,
    "start_time": "2024-07-23T20:07:06.434Z"
   },
   {
    "duration": 13,
    "start_time": "2024-07-23T20:07:06.447Z"
   },
   {
    "duration": 9,
    "start_time": "2024-07-23T20:07:06.466Z"
   },
   {
    "duration": 79,
    "start_time": "2024-07-23T20:07:06.478Z"
   },
   {
    "duration": 170,
    "start_time": "2024-07-23T20:07:06.560Z"
   },
   {
    "duration": 108,
    "start_time": "2024-07-23T20:07:06.733Z"
   },
   {
    "duration": 4,
    "start_time": "2024-07-23T20:07:06.844Z"
   },
   {
    "duration": 75,
    "start_time": "2024-07-23T20:07:06.851Z"
   },
   {
    "duration": 7,
    "start_time": "2024-07-23T20:07:06.929Z"
   },
   {
    "duration": 88,
    "start_time": "2024-07-23T20:07:06.939Z"
   },
   {
    "duration": 10,
    "start_time": "2024-07-23T20:07:07.030Z"
   },
   {
    "duration": 12,
    "start_time": "2024-07-23T20:24:07.712Z"
   },
   {
    "duration": 10,
    "start_time": "2024-07-23T20:24:16.583Z"
   },
   {
    "duration": 11,
    "start_time": "2024-07-23T20:24:17.975Z"
   },
   {
    "duration": 11,
    "start_time": "2024-07-23T20:25:30.520Z"
   },
   {
    "duration": 506,
    "start_time": "2024-07-23T20:26:59.879Z"
   },
   {
    "duration": 463,
    "start_time": "2024-07-23T20:27:06.379Z"
   },
   {
    "duration": 16,
    "start_time": "2024-07-23T20:27:07.695Z"
   },
   {
    "duration": 103,
    "start_time": "2024-07-23T20:27:27.165Z"
   },
   {
    "duration": 41,
    "start_time": "2024-07-23T20:27:52.330Z"
   },
   {
    "duration": 10,
    "start_time": "2024-07-23T20:28:14.980Z"
   },
   {
    "duration": 13,
    "start_time": "2024-07-23T20:28:15.599Z"
   },
   {
    "duration": 39,
    "start_time": "2024-07-23T20:28:29.095Z"
   },
   {
    "duration": 35,
    "start_time": "2024-07-23T20:28:37.334Z"
   },
   {
    "duration": 36,
    "start_time": "2024-07-23T20:28:43.887Z"
   },
   {
    "duration": 11,
    "start_time": "2024-07-23T20:29:02.686Z"
   },
   {
    "duration": 12,
    "start_time": "2024-07-23T20:29:10.406Z"
   },
   {
    "duration": 5,
    "start_time": "2024-07-23T20:29:16.720Z"
   },
   {
    "duration": 8,
    "start_time": "2024-07-23T20:29:23.165Z"
   },
   {
    "duration": 35,
    "start_time": "2024-07-23T20:29:34.082Z"
   },
   {
    "duration": 4,
    "start_time": "2024-07-23T20:32:02.358Z"
   },
   {
    "duration": 3,
    "start_time": "2024-07-23T20:32:26.433Z"
   },
   {
    "duration": 11,
    "start_time": "2024-07-23T20:32:34.137Z"
   },
   {
    "duration": 12,
    "start_time": "2024-07-23T20:32:59.612Z"
   },
   {
    "duration": 10,
    "start_time": "2024-07-23T20:33:10.760Z"
   },
   {
    "duration": 13,
    "start_time": "2024-07-23T20:35:06.041Z"
   },
   {
    "duration": 1645,
    "start_time": "2024-07-23T20:35:24.280Z"
   },
   {
    "duration": 23,
    "start_time": "2024-07-23T20:36:18.451Z"
   },
   {
    "duration": 1731,
    "start_time": "2024-07-23T20:36:19.000Z"
   },
   {
    "duration": 1623,
    "start_time": "2024-07-23T20:37:56.553Z"
   },
   {
    "duration": 1609,
    "start_time": "2024-07-23T20:38:03.959Z"
   },
   {
    "duration": 5677,
    "start_time": "2024-07-23T20:38:50.111Z"
   },
   {
    "duration": 5,
    "start_time": "2024-07-23T20:40:42.889Z"
   },
   {
    "duration": 1603,
    "start_time": "2024-07-23T20:41:12.019Z"
   },
   {
    "duration": 378,
    "start_time": "2024-07-23T20:41:13.625Z"
   },
   {
    "duration": 28,
    "start_time": "2024-07-23T20:41:14.007Z"
   },
   {
    "duration": 5,
    "start_time": "2024-07-23T20:41:14.040Z"
   },
   {
    "duration": 10,
    "start_time": "2024-07-23T20:41:14.048Z"
   },
   {
    "duration": 136,
    "start_time": "2024-07-23T20:41:14.063Z"
   },
   {
    "duration": 55,
    "start_time": "2024-07-23T20:41:14.202Z"
   },
   {
    "duration": 11,
    "start_time": "2024-07-23T20:41:14.260Z"
   },
   {
    "duration": 14,
    "start_time": "2024-07-23T20:41:14.273Z"
   },
   {
    "duration": 9,
    "start_time": "2024-07-23T20:41:14.328Z"
   },
   {
    "duration": 84,
    "start_time": "2024-07-23T20:41:14.341Z"
   },
   {
    "duration": 113,
    "start_time": "2024-07-23T20:41:14.428Z"
   },
   {
    "duration": 183,
    "start_time": "2024-07-23T20:41:14.544Z"
   },
   {
    "duration": 9,
    "start_time": "2024-07-23T20:41:14.734Z"
   },
   {
    "duration": 81,
    "start_time": "2024-07-23T20:41:14.749Z"
   },
   {
    "duration": 8,
    "start_time": "2024-07-23T20:41:14.833Z"
   },
   {
    "duration": 12,
    "start_time": "2024-07-23T20:41:14.844Z"
   },
   {
    "duration": 11,
    "start_time": "2024-07-23T20:41:14.859Z"
   },
   {
    "duration": 59,
    "start_time": "2024-07-23T20:41:14.873Z"
   },
   {
    "duration": 10,
    "start_time": "2024-07-23T20:41:14.935Z"
   },
   {
    "duration": 10,
    "start_time": "2024-07-23T20:41:14.948Z"
   },
   {
    "duration": 11,
    "start_time": "2024-07-23T20:41:14.961Z"
   },
   {
    "duration": 9,
    "start_time": "2024-07-23T20:41:14.975Z"
   },
   {
    "duration": 1609,
    "start_time": "2024-07-23T20:41:15.027Z"
   },
   {
    "duration": 1603,
    "start_time": "2024-07-23T20:41:16.639Z"
   },
   {
    "duration": 1584,
    "start_time": "2024-07-23T20:41:18.245Z"
   },
   {
    "duration": 5629,
    "start_time": "2024-07-23T20:41:19.832Z"
   },
   {
    "duration": 5599,
    "start_time": "2024-07-23T21:28:11.493Z"
   },
   {
    "duration": 5625,
    "start_time": "2024-07-23T21:28:37.854Z"
   },
   {
    "duration": 6084,
    "start_time": "2024-07-23T21:29:10.738Z"
   },
   {
    "duration": 5813,
    "start_time": "2024-07-23T21:29:28.684Z"
   },
   {
    "duration": 6120,
    "start_time": "2024-07-23T21:29:44.248Z"
   },
   {
    "duration": 4,
    "start_time": "2024-07-23T21:30:26.928Z"
   },
   {
    "duration": 1590,
    "start_time": "2024-07-23T21:37:45.812Z"
   },
   {
    "duration": 387,
    "start_time": "2024-07-23T21:37:47.406Z"
   },
   {
    "duration": 17,
    "start_time": "2024-07-23T21:37:47.796Z"
   },
   {
    "duration": 5,
    "start_time": "2024-07-23T21:37:47.827Z"
   },
   {
    "duration": 8,
    "start_time": "2024-07-23T21:37:47.836Z"
   },
   {
    "duration": 137,
    "start_time": "2024-07-23T21:37:47.848Z"
   },
   {
    "duration": 60,
    "start_time": "2024-07-23T21:37:47.989Z"
   },
   {
    "duration": 12,
    "start_time": "2024-07-23T21:37:48.052Z"
   },
   {
    "duration": 13,
    "start_time": "2024-07-23T21:37:48.067Z"
   },
   {
    "duration": 39,
    "start_time": "2024-07-23T21:37:48.087Z"
   },
   {
    "duration": 39,
    "start_time": "2024-07-23T21:37:48.130Z"
   },
   {
    "duration": 165,
    "start_time": "2024-07-23T21:37:48.172Z"
   },
   {
    "duration": 184,
    "start_time": "2024-07-23T21:37:48.342Z"
   },
   {
    "duration": 5,
    "start_time": "2024-07-23T21:37:48.529Z"
   },
   {
    "duration": 6,
    "start_time": "2024-07-23T21:37:48.537Z"
   },
   {
    "duration": 80,
    "start_time": "2024-07-23T21:37:48.546Z"
   },
   {
    "duration": 21,
    "start_time": "2024-07-23T21:37:48.630Z"
   },
   {
    "duration": 11,
    "start_time": "2024-07-23T21:37:48.655Z"
   },
   {
    "duration": 11,
    "start_time": "2024-07-23T21:37:48.669Z"
   },
   {
    "duration": 43,
    "start_time": "2024-07-23T21:37:48.683Z"
   },
   {
    "duration": 10,
    "start_time": "2024-07-23T21:37:48.729Z"
   },
   {
    "duration": 10,
    "start_time": "2024-07-23T21:37:48.742Z"
   },
   {
    "duration": 9,
    "start_time": "2024-07-23T21:37:48.755Z"
   },
   {
    "duration": 1686,
    "start_time": "2024-07-23T21:37:48.767Z"
   },
   {
    "duration": 1574,
    "start_time": "2024-07-23T21:37:50.461Z"
   },
   {
    "duration": 1588,
    "start_time": "2024-07-23T21:37:52.038Z"
   },
   {
    "duration": 5609,
    "start_time": "2024-07-23T21:37:53.629Z"
   },
   {
    "duration": 5741,
    "start_time": "2024-07-23T21:39:04.376Z"
   },
   {
    "duration": 7,
    "start_time": "2024-07-23T23:51:09.187Z"
   },
   {
    "duration": 10,
    "start_time": "2024-07-23T23:51:11.386Z"
   },
   {
    "duration": 10,
    "start_time": "2024-07-23T23:51:14.540Z"
   },
   {
    "duration": 11,
    "start_time": "2024-07-23T23:51:15.570Z"
   },
   {
    "duration": 5181,
    "start_time": "2024-07-24T18:38:18.703Z"
   },
   {
    "duration": 509,
    "start_time": "2024-07-24T18:38:23.888Z"
   },
   {
    "duration": 17,
    "start_time": "2024-07-24T18:38:24.400Z"
   },
   {
    "duration": 5,
    "start_time": "2024-07-24T18:38:24.420Z"
   },
   {
    "duration": 9,
    "start_time": "2024-07-24T18:38:24.436Z"
   },
   {
    "duration": 124,
    "start_time": "2024-07-24T18:38:24.447Z"
   },
   {
    "duration": 45,
    "start_time": "2024-07-24T18:38:24.574Z"
   },
   {
    "duration": 20,
    "start_time": "2024-07-24T18:38:24.622Z"
   },
   {
    "duration": 15,
    "start_time": "2024-07-24T18:38:24.644Z"
   },
   {
    "duration": 11,
    "start_time": "2024-07-24T18:38:24.667Z"
   },
   {
    "duration": 92,
    "start_time": "2024-07-24T18:38:24.681Z"
   },
   {
    "duration": 174,
    "start_time": "2024-07-24T18:38:24.779Z"
   },
   {
    "duration": 116,
    "start_time": "2024-07-24T18:38:24.962Z"
   },
   {
    "duration": 17,
    "start_time": "2024-07-24T18:38:25.146Z"
   },
   {
    "duration": 61,
    "start_time": "2024-07-24T18:38:25.175Z"
   },
   {
    "duration": 14,
    "start_time": "2024-07-24T18:38:25.242Z"
   },
   {
    "duration": 11,
    "start_time": "2024-07-24T18:38:25.259Z"
   },
   {
    "duration": 11,
    "start_time": "2024-07-24T18:38:25.273Z"
   },
   {
    "duration": 10,
    "start_time": "2024-07-24T18:38:25.287Z"
   },
   {
    "duration": 39,
    "start_time": "2024-07-24T18:38:25.300Z"
   },
   {
    "duration": 14,
    "start_time": "2024-07-24T18:38:25.344Z"
   },
   {
    "duration": 11,
    "start_time": "2024-07-24T18:38:25.363Z"
   },
   {
    "duration": 9,
    "start_time": "2024-07-24T18:38:25.377Z"
   },
   {
    "duration": 1701,
    "start_time": "2024-07-24T18:38:25.389Z"
   },
   {
    "duration": 1600,
    "start_time": "2024-07-24T18:38:27.094Z"
   },
   {
    "duration": 1618,
    "start_time": "2024-07-24T18:38:28.699Z"
   },
   {
    "duration": 5620,
    "start_time": "2024-07-24T18:38:30.320Z"
   },
   {
    "duration": 6631,
    "start_time": "2024-07-24T19:11:04.737Z"
   },
   {
    "duration": 1605,
    "start_time": "2024-07-24T19:11:31.445Z"
   },
   {
    "duration": 379,
    "start_time": "2024-07-24T19:11:33.053Z"
   },
   {
    "duration": 21,
    "start_time": "2024-07-24T19:11:33.435Z"
   },
   {
    "duration": 6,
    "start_time": "2024-07-24T19:11:33.462Z"
   },
   {
    "duration": 9,
    "start_time": "2024-07-24T19:11:33.471Z"
   },
   {
    "duration": 144,
    "start_time": "2024-07-24T19:11:33.484Z"
   },
   {
    "duration": 47,
    "start_time": "2024-07-24T19:11:33.635Z"
   },
   {
    "duration": 11,
    "start_time": "2024-07-24T19:11:33.685Z"
   },
   {
    "duration": 46,
    "start_time": "2024-07-24T19:11:33.699Z"
   },
   {
    "duration": 11,
    "start_time": "2024-07-24T19:11:33.752Z"
   },
   {
    "duration": 72,
    "start_time": "2024-07-24T19:11:33.767Z"
   },
   {
    "duration": 111,
    "start_time": "2024-07-24T19:11:33.841Z"
   },
   {
    "duration": 178,
    "start_time": "2024-07-24T19:11:33.956Z"
   },
   {
    "duration": 5,
    "start_time": "2024-07-24T19:11:34.137Z"
   },
   {
    "duration": 4,
    "start_time": "2024-07-24T19:11:34.145Z"
   },
   {
    "duration": 84,
    "start_time": "2024-07-24T19:11:34.152Z"
   },
   {
    "duration": 11,
    "start_time": "2024-07-24T19:11:34.239Z"
   },
   {
    "duration": 13,
    "start_time": "2024-07-24T19:11:34.253Z"
   },
   {
    "duration": 12,
    "start_time": "2024-07-24T19:11:34.269Z"
   },
   {
    "duration": 50,
    "start_time": "2024-07-24T19:11:34.284Z"
   },
   {
    "duration": 12,
    "start_time": "2024-07-24T19:11:34.337Z"
   },
   {
    "duration": 11,
    "start_time": "2024-07-24T19:11:34.352Z"
   },
   {
    "duration": 10,
    "start_time": "2024-07-24T19:11:34.366Z"
   },
   {
    "duration": 1718,
    "start_time": "2024-07-24T19:11:34.379Z"
   },
   {
    "duration": 1662,
    "start_time": "2024-07-24T19:11:36.100Z"
   },
   {
    "duration": 1660,
    "start_time": "2024-07-24T19:11:37.765Z"
   },
   {
    "duration": 5819,
    "start_time": "2024-07-24T19:11:39.436Z"
   },
   {
    "duration": 1520,
    "start_time": "2024-07-24T19:18:11.398Z"
   },
   {
    "duration": 379,
    "start_time": "2024-07-24T19:18:12.921Z"
   },
   {
    "duration": 16,
    "start_time": "2024-07-24T19:18:13.303Z"
   },
   {
    "duration": 14,
    "start_time": "2024-07-24T19:18:13.323Z"
   },
   {
    "duration": 8,
    "start_time": "2024-07-24T19:18:13.340Z"
   },
   {
    "duration": 130,
    "start_time": "2024-07-24T19:18:13.351Z"
   },
   {
    "duration": 60,
    "start_time": "2024-07-24T19:18:13.484Z"
   },
   {
    "duration": 12,
    "start_time": "2024-07-24T19:18:13.548Z"
   },
   {
    "duration": 16,
    "start_time": "2024-07-24T19:18:13.563Z"
   },
   {
    "duration": 11,
    "start_time": "2024-07-24T19:18:13.586Z"
   },
   {
    "duration": 44,
    "start_time": "2024-07-24T19:18:13.636Z"
   },
   {
    "duration": 162,
    "start_time": "2024-07-24T19:18:13.683Z"
   },
   {
    "duration": 188,
    "start_time": "2024-07-24T19:18:13.849Z"
   },
   {
    "duration": 8,
    "start_time": "2024-07-24T19:18:14.042Z"
   },
   {
    "duration": 80,
    "start_time": "2024-07-24T19:18:14.057Z"
   },
   {
    "duration": 7,
    "start_time": "2024-07-24T19:18:14.140Z"
   },
   {
    "duration": 10,
    "start_time": "2024-07-24T19:18:14.151Z"
   },
   {
    "duration": 11,
    "start_time": "2024-07-24T19:18:14.164Z"
   },
   {
    "duration": 11,
    "start_time": "2024-07-24T19:18:14.178Z"
   },
   {
    "duration": 10,
    "start_time": "2024-07-24T19:18:14.236Z"
   },
   {
    "duration": 28,
    "start_time": "2024-07-24T19:18:14.249Z"
   },
   {
    "duration": 11,
    "start_time": "2024-07-24T19:18:14.280Z"
   },
   {
    "duration": 11,
    "start_time": "2024-07-24T19:18:14.293Z"
   },
   {
    "duration": 1602,
    "start_time": "2024-07-24T19:18:14.307Z"
   },
   {
    "duration": 1604,
    "start_time": "2024-07-24T19:18:15.911Z"
   },
   {
    "duration": 1549,
    "start_time": "2024-07-24T19:18:17.518Z"
   },
   {
    "duration": 5600,
    "start_time": "2024-07-24T19:18:19.071Z"
   },
   {
    "duration": 1704,
    "start_time": "2024-07-24T19:36:06.210Z"
   },
   {
    "duration": 413,
    "start_time": "2024-07-24T19:36:07.919Z"
   },
   {
    "duration": 19,
    "start_time": "2024-07-24T19:36:08.335Z"
   },
   {
    "duration": 5,
    "start_time": "2024-07-24T19:36:08.359Z"
   },
   {
    "duration": 10,
    "start_time": "2024-07-24T19:36:08.367Z"
   },
   {
    "duration": 171,
    "start_time": "2024-07-24T19:36:08.380Z"
   },
   {
    "duration": 50,
    "start_time": "2024-07-24T19:36:08.557Z"
   },
   {
    "duration": 32,
    "start_time": "2024-07-24T19:36:08.610Z"
   },
   {
    "duration": 15,
    "start_time": "2024-07-24T19:36:08.646Z"
   },
   {
    "duration": 11,
    "start_time": "2024-07-24T19:36:08.668Z"
   },
   {
    "duration": 82,
    "start_time": "2024-07-24T19:36:08.682Z"
   },
   {
    "duration": 178,
    "start_time": "2024-07-24T19:36:08.767Z"
   },
   {
    "duration": 190,
    "start_time": "2024-07-24T19:36:08.949Z"
   },
   {
    "duration": 4,
    "start_time": "2024-07-24T19:36:09.143Z"
   },
   {
    "duration": 6,
    "start_time": "2024-07-24T19:36:09.151Z"
   },
   {
    "duration": 8,
    "start_time": "2024-07-24T19:36:09.235Z"
   },
   {
    "duration": 13,
    "start_time": "2024-07-24T19:36:09.246Z"
   },
   {
    "duration": 11,
    "start_time": "2024-07-24T19:36:09.263Z"
   },
   {
    "duration": 58,
    "start_time": "2024-07-24T19:36:09.277Z"
   },
   {
    "duration": 12,
    "start_time": "2024-07-24T19:36:09.338Z"
   },
   {
    "duration": 11,
    "start_time": "2024-07-24T19:36:09.354Z"
   },
   {
    "duration": 12,
    "start_time": "2024-07-24T19:36:09.368Z"
   },
   {
    "duration": 54,
    "start_time": "2024-07-24T19:36:09.383Z"
   },
   {
    "duration": 1962,
    "start_time": "2024-07-24T19:36:09.440Z"
   },
   {
    "duration": 1783,
    "start_time": "2024-07-24T19:36:11.405Z"
   },
   {
    "duration": 1877,
    "start_time": "2024-07-24T19:36:13.191Z"
   },
   {
    "duration": 6714,
    "start_time": "2024-07-24T19:36:15.071Z"
   }
  ],
  "kernelspec": {
   "display_name": "Python 3 (ipykernel)",
   "language": "python",
   "name": "python3"
  },
  "language_info": {
   "codemirror_mode": {
    "name": "ipython",
    "version": 3
   },
   "file_extension": ".py",
   "mimetype": "text/x-python",
   "name": "python",
   "nbconvert_exporter": "python",
   "pygments_lexer": "ipython3",
   "version": "3.9.19"
  },
  "toc": {
   "base_numbering": 1,
   "nav_menu": {},
   "number_sections": true,
   "sideBar": true,
   "skip_h1_title": true,
   "title_cell": "Table of Contents",
   "title_sidebar": "Contents",
   "toc_cell": false,
   "toc_position": {},
   "toc_section_display": true,
   "toc_window_display": false
  }
 },
 "nbformat": 4,
 "nbformat_minor": 2
}
